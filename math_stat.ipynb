{
  "cells": [
    {
      "cell_type": "markdown",
      "source": [
        "Выборка № 31"
      ],
      "metadata": {
        "collapsed": false,
        "id": "2aA7aLVmeFTK"
      }
    },
    {
      "cell_type": "code",
      "execution_count": 1,
      "outputs": [],
      "source": [
        "import numpy as np\n",
        "import matplotlib.pyplot as plt\n",
        "import seaborn as sns\n",
        "import warnings\n",
        "warnings.filterwarnings('ignore')\n",
        "\n",
        "from math import sqrt\n",
        "from scipy.stats import norm as norm_distr, nct as stud_distr, chi2 as hi2_distr, f as fisher_distr"
      ],
      "metadata": {
        "pycharm": {
          "name": "#%%\n"
        },
        "id": "0CYm5BtceFTR"
      }
    },
    {
      "cell_type": "markdown",
      "source": [
        "## Задание 1"
      ],
      "metadata": {
        "collapsed": false,
        "id": "QgHioZH0eFTT"
      }
    },
    {
      "cell_type": "markdown",
      "source": [
        "По числовой выборке № 1 объема 50 построить точные доверительные интервалы c уровнями доверия 0.99, 0.95 и 0.9, считая, что выборка взята из нормального распределения с параметрами $α$ и $σ^2$:\\\n",
        "a) для α, если $σ^2$ известно;\\\n",
        "б) для α, если $σ^2$ неизвестно;\\\n",
        "в) для $σ^2$, если α известно;\\\n",
        "г) для $σ^2$, если α неизвестно.\n"
      ],
      "metadata": {
        "collapsed": false,
        "id": "9-UhzrZOeFTU"
      }
    },
    {
      "cell_type": "code",
      "execution_count": 2,
      "outputs": [],
      "source": [
        "# Нормальное распределение\n",
        "alpha = 0\n",
        "sigma2 = 0.9\n",
        "accs = ['0.99','0.95', '0.90']\n",
        "\n",
        "X_n = np.array([-0.873, -0.153, -0.544,  0.442, -0.043, -0.741, -0.806, -0.622, -0.574, -1.048,\n",
        "                -1.197, -0.994,  0.407, -0.253, -0.075,  0.968, -2.027,  2.466,  1.328,  0.336,\n",
        "                -0.895, -1.518, -0.275, -0.837, -0.303, -0.702,  0.047,  0.325,  0.980, -0.837,\n",
        "                -0.173, -0.697, -1.153, -0.281,  1.121,  0.205,  0.281, -0.266, -0.180, -0.667,\n",
        "                -0.058, -1.203, -1.611,  1.618,  1.938, -1.447,  1.347,  1.308,  0.107, -1.411])"
      ],
      "metadata": {
        "pycharm": {
          "name": "#%%\n"
        },
        "id": "epc6vaBIeFTT"
      }
    },
    {
      "cell_type": "markdown",
      "source": [
        "<!-- Ниже мы расччитаем\\\n",
        "$\\overline{X}$ - выборочное среднее,\\\n",
        "$S^2$ - выборочную дисперсую,\\\n",
        "$S_{0}^2$ - несмещенное выборочное стандартное отклонение (двумя способами)\\\n",
        "\\\n",
        "По следствию из леммы Фишера\n",
        "$\\frac{(n-1)S_{0}^2}{\\sigma^2}⋹\\chi_{n-1}^{2}$\\\n",
        "\\\n",
        "Пусть $t_{\\varepsilon}^{(1)}$ и $t_{\\varepsilon}^{(2)}$ - квантили распределения $\\chi_{n-1}^{2}$ уровней $\\varepsilon/2 и $1-\\varepsilon/2$ соответственно. Тогда ${1-ε/2}$ = P(t_{\\varepsilon}^{(1)<\\frac{(n-1)S_{0}^2}{\\sigma^2}<t{\\varepsilon}^{(2)}) = P(\\frac)$$\n",
        "\n",
        "---\n",
        "\n",
        "Курсив Курсив *Курсив* -->"
      ],
      "metadata": {
        "id": "3wAv1kBvn9S0"
      }
    },
    {
      "cell_type": "code",
      "execution_count": 3,
      "outputs": [],
      "source": [
        "n = X_n.size\n",
        "\n",
        "# выборочное среднее\n",
        "X_ = np.average(X_n)\n",
        "\n",
        "# выборочная дисперсия\n",
        "S2 = np.average(X_n * X_n) - X_ ** 2  \n",
        "\n",
        "# несмещенная выборочная дисперсия\n",
        "S2_0 = S2 * n / (n - 1) \n",
        "\n",
        "# выборочная дисперсия при известном среднем\n",
        "S2_1 = sum((X_n - alpha * np.ones(n)) ** 2) / n\n",
        "\n",
        "# print('S2:\\t', S2)\n",
        "# print('X_:\\t', X_)\n",
        "# print('S2_0:\\t', S2_0)\n",
        "# print('S2_1:\\t', S2_1)"
      ],
      "metadata": {
        "pycharm": {
          "name": "#%%\n"
        },
        "id": "WU1nchlveFTU"
      }
    },
    {
      "cell_type": "markdown",
      "source": [
        "a) Для построения интервала на $α$ при известном $σ^2$ можно воспользоваться тем, что $\\sqrt{n}\\frac{\\overline{X} - \\alpha}{\\sigma}⋹N_{0,1}$"
      ],
      "metadata": {
        "id": "gTmbqA_2n346"
      }
    },
    {
      "cell_type": "code",
      "execution_count": 4,
      "outputs": [],
      "source": [
        "# считаем квантили стандартного нормального распределения (с точностью .3)\n",
        "q_norm = [round(norm_distr.ppf(1 - 0.01 / 2), 3),\n",
        "          round(norm_distr.ppf(1 - 0.05 / 2), 3), \n",
        "          round(norm_distr.ppf(1 - 0.1 / 2), 3)]"
      ],
      "metadata": {
        "pycharm": {
          "name": "#%%\n"
        },
        "id": "guBv9281eFTV"
      }
    },
    {
      "cell_type": "code",
      "source": [
        "print('а) интервалы для alpha, когда sigma известна:')\n",
        "for q, accuracy in zip(q_norm, accs):\n",
        "    shift = q * sqrt(S2_1) / sqrt(n)\n",
        "    print(f'при точности {accuracy} ({X_ - shift:.3f}, {X_ + shift:.3f}), длина {2*shift:.3f}')"
      ],
      "metadata": {
        "colab": {
          "base_uri": "https://localhost:8080/"
        },
        "id": "r9xnmXzml-rX",
        "outputId": "4a890a51-2a89-478a-e86c-23f9eb20ea58"
      },
      "execution_count": 5,
      "outputs": [
        {
          "output_type": "stream",
          "name": "stdout",
          "text": [
            "а) интервалы для alpha, когда sigma известна:\n",
            "при точности 0.99 (-0.542, 0.172), длина 0.714\n",
            "при точности 0.95 (-0.457, 0.087), длина 0.544\n",
            "при точности 0.90 (-0.413, 0.043), длина 0.456\n"
          ]
        }
      ]
    },
    {
      "cell_type": "markdown",
      "source": [
        "б) Для построения интервала на $α$ при неизвестном $σ^2$ можно воспользоваться следствием леммы Фишера: $\\sqrt{n}\\frac{\\overline{X} - \\alpha}{S}⋹T_{n-1}$"
      ],
      "metadata": {
        "id": "xhByjM2_pXnE"
      }
    },
    {
      "cell_type": "code",
      "execution_count": 6,
      "outputs": [],
      "source": [
        "# считаем квантили распределения Стьюдента с 49 степенями свободы (с точностью .3)\n",
        "st = stud_distr(df = n - 1, nc = 0)\n",
        "q_stud = [round(st.ppf(1 - 0.01 / 2), 3),\n",
        "          round(st.ppf(1 - 0.05 / 2), 3),\n",
        "          round(st.ppf(1 - 0.1 / 2), 3)]"
      ],
      "metadata": {
        "pycharm": {
          "name": "#%%\n"
        },
        "id": "h27_9eA4eFTV"
      }
    },
    {
      "cell_type": "code",
      "source": [
        "print('б) интервалы для alpha, когда sigma не известна:')\n",
        "for q, accuracy in zip(q_stud, accs):\n",
        "    shift = q * sqrt(S2_0) / sqrt(n)\n",
        "    print(f'при точности {accuracy} ({X_ - shift:.3f}, {X_ + shift:.3f}), длина {2*shift:.3f}')"
      ],
      "metadata": {
        "colab": {
          "base_uri": "https://localhost:8080/"
        },
        "id": "oc9mxpz9rfO1",
        "outputId": "9ecba27e-2b06-45c5-f99f-80a1431e0301"
      },
      "execution_count": 7,
      "outputs": [
        {
          "output_type": "stream",
          "name": "stdout",
          "text": [
            "б) интервалы для alpha, когда sigma не известна:\n",
            "при точности 0.99 (-0.553, 0.184), длина 0.737\n",
            "при точности 0.95 (-0.461, 0.092), длина 0.553\n",
            "при точности 0.90 (-0.416, 0.046), длина 0.461\n"
          ]
        }
      ]
    },
    {
      "cell_type": "markdown",
      "source": [
        "в) Для построения интервала на $σ^2$ при известном $\\alpha$ можно воспользоваться одним из следствий леммы Фишера: $\\frac{nS_{1}^2}{σ^2}⋹H_{n}$"
      ],
      "metadata": {
        "id": "hInG1AOisVE1"
      }
    },
    {
      "cell_type": "code",
      "execution_count": 8,
      "outputs": [],
      "source": [
        "# считаем квантили распределения Хи-квадрат с 50 степенями свободы (с точностью .3)\n",
        "ch = hi2_distr(df=n)\n",
        "q_ch50 = [(round(ch.ppf(0.01 / 2), 3), round(ch.ppf(1 - 0.01 / 2), 3)),\n",
        "          (round(ch.ppf(0.05 / 2), 3), round(ch.ppf(1 - 0.05 / 2), 3)),\n",
        "          (round(ch.ppf(0.1 / 2), 3),  round(ch.ppf(1 - 0.1 / 2),  3))]"
      ],
      "metadata": {
        "pycharm": {
          "name": "#%%\n"
        },
        "id": "iWJ1vX4PeFTW"
      }
    },
    {
      "cell_type": "code",
      "source": [
        "print('в) интервалы для sigma, когда alpha известна:')\n",
        "for i, accuracy in zip(range(3), accs):\n",
        "    L = n*S2_1/q_ch50[i][1]\n",
        "    R = n*S2_1/q_ch50[i][0]\n",
        "    print(f'при точности {accuracy} ({L:.3f}, {R:.3f}), длина {R - L:.3f}')"
      ],
      "metadata": {
        "colab": {
          "base_uri": "https://localhost:8080/"
        },
        "id": "nQIsmAHPuOER",
        "outputId": "31a22e1b-fefe-46d6-af9f-61acead89dea"
      },
      "execution_count": 9,
      "outputs": [
        {
          "output_type": "stream",
          "name": "stdout",
          "text": [
            "в) интервалы для sigma, когда alpha известна:\n",
            "при точности 0.99 (0.605, 1.718), длина 1.113\n",
            "при точности 0.95 (0.673, 1.486), длина 0.813\n",
            "при точности 0.90 (0.712, 1.383), длина 0.671\n"
          ]
        }
      ]
    },
    {
      "cell_type": "markdown",
      "source": [
        "г) Для построения интервала на $σ^2$ при неизвестном $\\alpha$ можно воспользоваться следствием леммы Фишера: $\\frac{(n-1)S_{0}^2}{σ^2}⋹H_{n-1}$"
      ],
      "metadata": {
        "id": "8aeyPh-9vWTB"
      }
    },
    {
      "cell_type": "code",
      "execution_count": 10,
      "outputs": [],
      "source": [
        "# считаем квантили распределения Хи-квадрат с 49 степенями свободы (с точностью .3)\n",
        "ch = hi2_distr(df=n-1)\n",
        "q_ch49 = [(round(ch.ppf(0.01 / 2), 3), round(ch.ppf(1 - 0.01 / 2), 3)),\n",
        "          (round(ch.ppf(0.05 / 2), 3), round(ch.ppf(1 - 0.05 / 2), 3)),\n",
        "          (round(ch.ppf(0.1 / 2), 3),  round(ch.ppf(1 - 0.1 / 2),  3))]"
      ],
      "metadata": {
        "pycharm": {
          "name": "#%%\n"
        },
        "id": "0toCvXj1eFTW"
      }
    },
    {
      "cell_type": "code",
      "execution_count": 11,
      "outputs": [
        {
          "output_type": "stream",
          "name": "stdout",
          "text": [
            "в) интервалы для sigma, когда alpha не известна:\n",
            "при точности 0.99 (0.593, 1.702), длина 1.109\n",
            "при точности 0.95 (0.660, 1.469), длина 0.809\n",
            "при точности 0.90 (0.699, 1.367), длина 0.668\n"
          ]
        }
      ],
      "source": [
        "print('в) интервалы для sigma, когда alpha не известна:')\n",
        "for i, accuracy in zip(range(3), accs):\n",
        "    L = (n-1)*S2_0/q_ch49[i][1]\n",
        "    R = (n-1)*S2_0/q_ch49[i][0]\n",
        "    print(f'при точности {accuracy} ({L:.3f}, {R:.3f}), длина {R - L:.3f}')"
      ],
      "metadata": {
        "pycharm": {
          "name": "#%%\n"
        },
        "colab": {
          "base_uri": "https://localhost:8080/"
        },
        "id": "uq797kGqeFTX",
        "outputId": "385b1ab9-d6d9-4df4-ab70-e57455c712a6"
      }
    },
    {
      "cell_type": "markdown",
      "source": [
        "## Задание 2"
      ],
      "metadata": {
        "collapsed": false,
        "id": "4z6ruwE5eFTY"
      }
    },
    {
      "cell_type": "code",
      "execution_count": 12,
      "outputs": [],
      "source": [
        "# Равномерное распределение\n",
        "a = 0\n",
        "b = 1\n",
        "eps = 0.11\n",
        "\n",
        "X_u = np.array([0.696, 0.920, 0.120, 0.195, 0.635, 0.752, 0.148, 0.589, 0.341, 0.282, \n",
        "                0.499, 0.312, 0.150, 0.091, 0.322, 0.113, 0.578, 0.352, 0.187, 0.127, \n",
        "                0.496, 0.132, 0.789, 0.347, 0.175, 0.081, 0.558, 0.593, 0.826, 0.539])"
      ],
      "metadata": {
        "pycharm": {
          "name": "#%%\n"
        },
        "id": "43Gda3d3eFTT"
      }
    },
    {
      "cell_type": "markdown",
      "source": [
        "По числовой выборке № 2 объема 30\\\n",
        "а) построить график эмпирической функции распределения и гистограмму;\\\n",
        "б) проверить основную гипотезу о равномерности распределения c помощью критерия Колмогорова;\\\n",
        "в) проверить основную гипотезу о равномерности распределения c помощью критерия хи-квадрат"
      ],
      "metadata": {
        "collapsed": false,
        "id": "pxabND5ieFTZ"
      }
    },
    {
      "cell_type": "code",
      "source": [
        "n = X_u.size\n",
        "X_u_sorted = np.sort(X_u)"
      ],
      "metadata": {
        "id": "2UGhGx9f0uj8"
      },
      "execution_count": 13,
      "outputs": []
    },
    {
      "cell_type": "code",
      "execution_count": 14,
      "outputs": [
        {
          "output_type": "display_data",
          "data": {
            "text/plain": [
              "<Figure size 648x648 with 1 Axes>"
            ],
            "image/png": "[encoded data removed]"
          },
          "metadata": {
            "needs_background": "light"
          }
        }
      ],
      "source": [
        "#строим графики эмпирического и истинного распределений\n",
        "plt.figure(figsize=(9, 9))\n",
        "plt.xlim([-0.05, 1.05])\n",
        "plt.ylim([-0.05, 1.05])\n",
        "tmp = np.where(X_u_sorted <= X_u_sorted)[0]/n\n",
        "plt.hlines(0, -1, X_u_sorted[0], linewidth=1.5, color='blue')\n",
        "plt.hlines(1, X_u_sorted[n-1], 2, linewidth=1.5, color='blue')\n",
        "for j in range(n - 1): plt.hlines(tmp[j + 1], X_u_sorted[j], X_u_sorted[j + 1], linewidth=1.5, color='blue')\n",
        "plt.plot([-1, 0, 1, 2], [0, 0, 1, 1], linewidth=1.5, color='green')\n",
        "plt.grid(True)\n",
        "\n",
        "# находим и отмечаем статистическое расстояние между функциями распределений\n",
        "D = max(max(abs(tmp - X_u_sorted)), abs(X_u_sorted[0]), abs(1-X_u_sorted[n-1]))\n",
        "for elem, i in zip(tmp, range(len(tmp))):\n",
        "  if abs(X_u_sorted[i]-elem) == D:\n",
        "    plt.plot([X_u_sorted[i], X_u_sorted[i]], [X_u_sorted[i], tmp[i+1]], linewidth=1.5, color='red', marker='x', ls='--')"
      ],
      "metadata": {
        "pycharm": {
          "name": "#%%\n"
        },
        "id": "w9FXFpXdeFTZ",
        "outputId": "ef4bfa7e-c6a9-444a-bef8-dc5032af3e52",
        "colab": {
          "base_uri": "https://localhost:8080/",
          "height": 537
        }
      }
    },
    {
      "cell_type": "code",
      "execution_count": 15,
      "outputs": [
        {
          "output_type": "stream",
          "name": "stdout",
          "text": [
            "D = 0.181\n",
            "D*sqrt(n) = 0.993\n"
          ]
        }
      ],
      "source": [
        "print(f'D = {D:.3f}')\n",
        "print(f'D*sqrt(n) = {D*sqrt(n):.3f}')"
      ],
      "metadata": {
        "pycharm": {
          "name": "#%%\n"
        },
        "colab": {
          "base_uri": "https://localhost:8080/"
        },
        "id": "qvb_f3x_eFTZ",
        "outputId": "8914d296-8be9-4597-fd86-274a671c2928"
      }
    },
    {
      "cell_type": "markdown",
      "source": [
        "В таблице приведенной на [сайте](http://smc.edu.nstu.ru/krit_kolm.htm) критические значение представлены для $P(\\sqrt{n}D_n>c_{ɛ}) = ɛ$. Там можно видеть, что $c_{ɛ} ≈ 1.205$ для $ɛ=0.11$, т.е. по критерию незавимо от того, домножаем ли мы на $\\sqrt{n}$, распределение с вероятностью $0.89$ равномерное на отрезке $[0,1]$."
      ],
      "metadata": {
        "id": "C0PhzHZDNgIZ"
      }
    },
    {
      "cell_type": "markdown",
      "source": [
        "Теперь мы хотим воспользоваться критерием $χ^2$ Пирсона для порверки гиптезы о том, что вероятности на распределены равномерно. Будем варьировать количество отрезков (параметр $k$)."
      ],
      "metadata": {
        "id": "GJInvemPVWMU"
      }
    },
    {
      "cell_type": "code",
      "execution_count": 16,
      "outputs": [],
      "source": [
        "def do_work(k: int) -> bool:\n",
        "  # считаем попадания в каждый отрезок\n",
        "  nu = [len([x for x in X_u if i/k <= x <= (i+1)/k]) for i in range(0,k)]\n",
        "\n",
        "  # считаем величину, имеющую распределение Хи-квадрта (с k-1 степенью свободы)\n",
        "  ro = sum([((nu[i]-n/k)**2)/(n/k) for i in range(k)])\n",
        "  \n",
        "  sns.displot(X_u, bins = [i/k for i in range(k+1)])\n",
        "  plt.hlines(n/k, 0, 1)\n",
        "  plt.show()\n",
        "\n",
        "  return True if ro < hi2_distr(df=k-1).ppf(1 - eps) else False"
      ],
      "metadata": {
        "pycharm": {
          "name": "#%%\n"
        },
        "id": "5icxWr0HeFTZ"
      }
    },
    {
      "cell_type": "code",
      "source": [
        "for k in range(3, 10):\n",
        "  print(f'k = {k}: ' + ('' if do_work(k) else 'не ') + 'равномерное')"
      ],
      "metadata": {
        "colab": {
          "base_uri": "https://localhost:8080/",
          "height": 1000
        },
        "id": "mmQ9qoX1Xpb4",
        "outputId": "ba2df2d3-d8bf-43e3-801b-6c59237a2c7d"
      },
      "execution_count": 17,
      "outputs": [
        {
          "output_type": "display_data",
          "data": {
            "text/plain": [
              "<Figure size 360x360 with 1 Axes>"
            ],
            "image/png": "[encoded data removed]"
          },
          "metadata": {
            "needs_background": "light"
          }
        },
        {
          "output_type": "stream",
          "name": "stdout",
          "text": [
            "k = 3: равномерное\n"
          ]
        },
        {
          "output_type": "display_data",
          "data": {
            "text/plain": [
              "<Figure size 360x360 with 1 Axes>"
            ],
            "image/png": "[encoded data removed]"
          },
          "metadata": {
            "needs_background": "light"
          }
        },
        {
          "output_type": "stream",
          "name": "stdout",
          "text": [
            "k = 4: равномерное\n"
          ]
        },
        {
          "output_type": "display_data",
          "data": {
            "text/plain": [
              "<Figure size 360x360 with 1 Axes>"
            ],
            "image/png": "[encoded data removed]"
          },
          "metadata": {
            "needs_background": "light"
          }
        },
        {
          "output_type": "stream",
          "name": "stdout",
          "text": [
            "k = 5: не равномерное\n"
          ]
        },
        {
          "output_type": "display_data",
          "data": {
            "text/plain": [
              "<Figure size 360x360 with 1 Axes>"
            ],
            "image/png": "[encoded data removed]"
          },
          "metadata": {
            "needs_background": "light"
          }
        },
        {
          "output_type": "stream",
          "name": "stdout",
          "text": [
            "k = 6: равномерное\n"
          ]
        },
        {
          "output_type": "display_data",
          "data": {
            "text/plain": [
              "<Figure size 360x360 with 1 Axes>"
            ],
            "image/png": "[encoded data removed]"
          },
          "metadata": {
            "needs_background": "light"
          }
        },
        {
          "output_type": "stream",
          "name": "stdout",
          "text": [
            "k = 7: равномерное\n"
          ]
        },
        {
          "output_type": "display_data",
          "data": {
            "text/plain": [
              "<Figure size 360x360 with 1 Axes>"
            ],
            "image/png": "[encoded data removed]"
          },
          "metadata": {
            "needs_background": "light"
          }
        },
        {
          "output_type": "stream",
          "name": "stdout",
          "text": [
            "k = 8: равномерное\n"
          ]
        },
        {
          "output_type": "display_data",
          "data": {
            "text/plain": [
              "<Figure size 360x360 with 1 Axes>"
            ],
            "image/png": "[encoded data removed]"
          },
          "metadata": {
            "needs_background": "light"
          }
        },
        {
          "output_type": "stream",
          "name": "stdout",
          "text": [
            "k = 9: не равномерное\n"
          ]
        }
      ]
    },
    {
      "cell_type": "markdown",
      "source": [
        "## Задание 3"
      ],
      "metadata": {
        "collapsed": false,
        "id": "6NxvGRxMeFTZ"
      }
    },
    {
      "cell_type": "code",
      "source": [
        "alpha = 0\n",
        "sigma2 = 0.9\n",
        "eps = 0.11\n",
        "\n",
        "X = np.array([-0.873, -0.153, -0.544,  0.442, -0.043, -0.741, -0.806, -0.622, -0.574, -1.048,\n",
        "              -1.197, -0.994,  0.407, -0.253, -0.075,  0.968, -2.027,  2.466,  1.328,  0.336,\n",
        "              -0.895, -1.518, -0.275, -0.837, -0.303, -0.702,  0.047,  0.325,  0.980, -0.837])\n",
        "Y = np.array([-0.173, -0.697, -1.153, -0.281,  1.121,  0.205,  0.281, -0.266, -0.180, -0.667,\n",
        "              -0.058, -1.203, -1.611,  1.618,  1.938, -1.447,  1.347,  1.308,  0.107, -1.411])\n",
        "\n",
        "# размеры выборок\n",
        "n = X.size\n",
        "m = Y.size\n",
        "\n",
        "# выборочные средние\n",
        "X_ =  np.average(X)\n",
        "Y_ =  np.average(Y)\n",
        "\n",
        "# несмещенные выборочные дисперсии\n",
        "S0_X = sum((X - X_*np.ones(n))**2)/(n - 1)\n",
        "S0_Y = sum((Y - Y_*np.ones(m))**2)/(m - 1)"
      ],
      "metadata": {
        "id": "usiHyZwJj5g0"
      },
      "execution_count": 18,
      "outputs": []
    },
    {
      "cell_type": "code",
      "source": [
        "#критерий Стьюдента\n",
        "\n",
        "T = (X_-Y_)*sqrt((m+n-2)/(1/m+1/n))/sqrt(n*S0_X+m*S0_Y)\n",
        "\n",
        "if abs(T) < stud_distr(df=n+m-2,nc=0).ppf(1-eps/2):\n",
        "  print('Выборки имеют одинаковые alpha')\n",
        "else:\n",
        "  print('Выборки имеют разные alpha')"
      ],
      "metadata": {
        "colab": {
          "base_uri": "https://localhost:8080/"
        },
        "id": "gvNHSRDgkkTK",
        "outputId": "aafb268b-d5e7-415c-cfe8-7ed1b4a715c6"
      },
      "execution_count": 19,
      "outputs": [
        {
          "output_type": "stream",
          "name": "stdout",
          "text": [
            "Выборки имеют одинаковые alpha\n"
          ]
        }
      ]
    },
    {
      "cell_type": "code",
      "source": [
        "#критерий Стьюдента\n",
        "\n",
        "f = fisher_distr(dfn=n-1,dfd=m-1)\n",
        "\n",
        "if f.ppf(eps/2) < n*S0_X/(m*S0_Y) < f.ppf(1-eps/2):\n",
        "  print('Выборки имеют одинаковые sigma2')\n",
        "else:\n",
        "  print('Выборки имеют разныеsigma2')"
      ],
      "metadata": {
        "colab": {
          "base_uri": "https://localhost:8080/"
        },
        "id": "_zUc6xLnltJb",
        "outputId": "e3b9357e-da76-42e8-8bc4-9553303549e1"
      },
      "execution_count": 20,
      "outputs": [
        {
          "output_type": "stream",
          "name": "stdout",
          "text": [
            "Выборки имеют одинаковые sigma2\n"
          ]
        }
      ]
    },
    {
      "cell_type": "code",
      "source": [
        "sns.distplot(X, hist=False)\n",
        "sns.distplot(Y, hist=False)\n",
        "plt.figure(figsize=(9, 6))\n",
        "plt.show()"
      ],
      "metadata": {
        "colab": {
          "base_uri": "https://localhost:8080/",
          "height": 282
        },
        "id": "DM0tviqro37W",
        "outputId": "ad336fc0-5275-491f-95aa-143898507a2a"
      },
      "execution_count": 21,
      "outputs": [
        {
          "output_type": "display_data",
          "data": {
            "text/plain": [
              "<Figure size 432x288 with 1 Axes>"
            ],
            "image/png": "[encoded data removed]"
          },
          "metadata": {
            "needs_background": "light"
          }
        },
        {
          "output_type": "display_data",
          "data": {
            "text/plain": [
              "<Figure size 648x432 with 0 Axes>"
            ]
          },
          "metadata": {}
        }
      ]
    }
  ],
  "metadata": {
    "kernelspec": {
      "display_name": "Python 3",
      "language": "python",
      "name": "python3"
    },
    "language_info": {
      "codemirror_mode": {
        "name": "ipython",
        "version": 2
      },
      "file_extension": ".py",
      "mimetype": "text/x-python",
      "name": "python",
      "nbconvert_exporter": "python",
      "pygments_lexer": "ipython2",
      "version": "2.7.6"
    },
    "colab": {
      "name": "raschetnoe_zadanie.ipynb",
      "provenance": [],
      "collapsed_sections": []
    }
  },
  "nbformat": 4,
  "nbformat_minor": 0
}
