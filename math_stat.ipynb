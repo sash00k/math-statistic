{
  "cells": [
    {
      "cell_type": "markdown",
      "source": [
        "Выборка номер 31"
      ],
      "metadata": {
        "collapsed": false,
        "id": "2aA7aLVmeFTK"
      }
    },
    {
      "cell_type": "code",
      "execution_count": 122,
      "outputs": [],
      "source": [
        "import numpy as np\n",
        "import matplotlib.pyplot as plt\n",
        "import seaborn as sns\n",
        "from math import sqrt\n",
        "from scipy.stats import norm as norm_distr, nct as stud_distr, chi2 as hi2_distr, f as fisher_distr\n",
        "sns.set(style=\"ticks\", context=\"talk\")"
      ],
      "metadata": {
        "pycharm": {
          "name": "#%%\n"
        },
        "id": "0CYm5BtceFTR"
      }
    },
    {
      "cell_type": "markdown",
      "source": [
        "## Задание 1"
      ],
      "metadata": {
        "collapsed": false,
        "id": "QgHioZH0eFTT"
      }
    },
    {
      "cell_type": "markdown",
      "source": [
        "По числовой выборке № 1 объема 50 построить точные доверительные интервалы c уровнями доверия 0.99, 0.95 и 0.9, считая, что выборка взята из нормального распределения с параметрами $α$ и $σ^2$:\\\n",
        "a) для α, если $σ^2$ известно;\\\n",
        "б) для α, если $σ^2$ неизвестно;\\\n",
        "в) для $σ^2$, если α известно;\\\n",
        "г) для $σ^2$, если α неизвестно.\n"
      ],
      "metadata": {
        "collapsed": false,
        "id": "9-UhzrZOeFTU"
      }
    },
    {
      "cell_type": "code",
      "execution_count": 123,
      "outputs": [],
      "source": [
        "# Нормальное распределение\n",
        "alpha = 0\n",
        "sigma2 = 0.9\n",
        "accs = ['0.99','0.95', '0.90']\n",
        "\n",
        "X_n = np.array([-0.873, -0.153, -0.544,  0.442, -0.043, -0.741, -0.806, -0.622, -0.574, -1.048,\n",
        "                -1.197, -0.994,  0.407, -0.253, -0.075,  0.968, -2.027,  2.466,  1.328,  0.336,\n",
        "                -0.895, -1.518, -0.275, -0.837, -0.303, -0.702,  0.047,  0.325,  0.980, -0.837,\n",
        "                -0.173, -0.697, -1.153, -0.281,  1.121,  0.205,  0.281, -0.266, -0.180, -0.667,\n",
        "                -0.058, -1.203, -1.611,  1.618,  1.938, -1.447,  1.347,  1.308,  0.107, -1.411])"
      ],
      "metadata": {
        "pycharm": {
          "name": "#%%\n"
        },
        "id": "epc6vaBIeFTT"
      }
    },
    {
      "cell_type": "markdown",
      "source": [
        "<!-- Ниже мы расччитаем\\\n",
        "$\\overline{X}$ - выборочное среднее,\\\n",
        "$S^2$ - выборочную дисперсую,\\\n",
        "$S_{0}^2$ - несмещенное выборочное стандартное отклонение (двумя способами)\\\n",
        "\\\n",
        "По следствию из леммы Фишера\n",
        "$\\frac{(n-1)S_{0}^2}{\\sigma^2}⋹\\chi_{n-1}^{2}$\\\n",
        "\\\n",
        "Пусть $t_{\\varepsilon}^{(1)}$ и $t_{\\varepsilon}^{(2)}$ - квантили распределения $\\chi_{n-1}^{2}$ уровней $\\varepsilon/2 и $1-\\varepsilon/2$ соответственно. Тогда ${1-ε/2}$ = P(t_{\\varepsilon}^{(1)<\\frac{(n-1)S_{0}^2}{\\sigma^2}<t{\\varepsilon}^{(2)}) = P(\\frac)$$\n",
        "\n",
        "---\n",
        "\n",
        "Курсив Курсив *Курсив* -->"
      ],
      "metadata": {
        "id": "3wAv1kBvn9S0"
      }
    },
    {
      "cell_type": "code",
      "execution_count": 124,
      "outputs": [],
      "source": [
        "n = X_n.size\n",
        "\n",
        "# выборочное среднее\n",
        "X_ = np.average(X_n)\n",
        "\n",
        "# выборочная дисперсия\n",
        "S2 = np.average(X_n * X_n) - X_ ** 2  \n",
        "\n",
        "# несмещенная выборочная дисперсия\n",
        "S2_0 = S2 * n / (n - 1) \n",
        "\n",
        "# выборочная дисперсия при известном среднем\n",
        "S2_1 = sum((X_n - alpha * np.ones(n)) ** 2) / n\n",
        "\n",
        "# print('S2:\\t', S2)\n",
        "# print('X_:\\t', X_)\n",
        "# print('S2_0:\\t', S2_0)\n",
        "# print('S2_1:\\t', S2_1)"
      ],
      "metadata": {
        "pycharm": {
          "name": "#%%\n"
        },
        "id": "WU1nchlveFTU"
      }
    },
    {
      "cell_type": "code",
      "source": [
        ""
      ],
      "metadata": {
        "id": "wGtEoebi92Iy"
      },
      "execution_count": 124,
      "outputs": []
    },
    {
      "cell_type": "markdown",
      "source": [
        "a) Для построения интервала на $α$ при известном $σ^2$ можно воспользоваться тем, что $\\sqrt{n}\\frac{\\overline{X} - \\alpha}{\\sigma}⋹N_{0,1}$"
      ],
      "metadata": {
        "id": "gTmbqA_2n346"
      }
    },
    {
      "cell_type": "code",
      "execution_count": 125,
      "outputs": [],
      "source": [
        "# считаем квантили стандартного нормального распределения (с точностью .3)\n",
        "q_norm = [round(norm_distr.ppf(1 - 0.01 / 2), 3),\n",
        "          round(norm_distr.ppf(1 - 0.05 / 2), 3), \n",
        "          round(norm_distr.ppf(1 - 0.1 / 2), 3)]"
      ],
      "metadata": {
        "pycharm": {
          "name": "#%%\n"
        },
        "id": "guBv9281eFTV"
      }
    },
    {
      "cell_type": "code",
      "source": [
        "print('а) интервалы для alpha, когда sigma известна:')\n",
        "for q, accuracy in zip(q_norm, accs):\n",
        "    shift = q * sqrt(S2_1) / sqrt(n)\n",
        "    print(f'при точности {accuracy} ({X_ - shift:.3f}, {X_ + shift:.3f}), длина {2*shift:.3f}')"
      ],
      "metadata": {
        "colab": {
          "base_uri": "https://localhost:8080/"
        },
        "id": "r9xnmXzml-rX",
        "outputId": "bdade2e9-8053-44e4-be46-cf1ef89a240b"
      },
      "execution_count": 126,
      "outputs": [
        {
          "output_type": "stream",
          "name": "stdout",
          "text": [
            "а) интервалы для alpha, когда sigma известна:\n",
            "при точности 0.99 (-0.542, 0.172), длина 0.714\n",
            "при точности 0.95 (-0.457, 0.087), длина 0.544\n",
            "при точности 0.90 (-0.413, 0.043), длина 0.456\n"
          ]
        }
      ]
    },
    {
      "cell_type": "markdown",
      "source": [
        "б) Для построения интервала на $α$ при неизвестном $σ^2$ можно воспользоваться следствием леммы Фишера: $\\sqrt{n}\\frac{\\overline{X} - \\alpha}{S}⋹T_{n-1}$"
      ],
      "metadata": {
        "id": "xhByjM2_pXnE"
      }
    },
    {
      "cell_type": "code",
      "execution_count": 127,
      "outputs": [],
      "source": [
        "# считаем квантили распределения Стьюдента с 49 степенями свободы (с точностью .3)\n",
        "st = stud_distr(df = n - 1, nc = 0)\n",
        "q_stud = [round(st.ppf(1 - 0.01 / 2), 3),\n",
        "          round(st.ppf(1 - 0.05 / 2), 3),\n",
        "          round(st.ppf(1 - 0.1 / 2), 3)]"
      ],
      "metadata": {
        "pycharm": {
          "name": "#%%\n"
        },
        "id": "h27_9eA4eFTV"
      }
    },
    {
      "cell_type": "code",
      "source": [
        "print('б) интервалы для alpha, когда sigma не известна:')\n",
        "for q, accuracy in zip(q_stud, accs):\n",
        "    shift = q * sqrt(S2_0) / sqrt(n)\n",
        "    print(f'при точности {accuracy} ({X_ - shift:.3f}, {X_ + shift:.3f}), длина {2*shift:.3f}')"
      ],
      "metadata": {
        "colab": {
          "base_uri": "https://localhost:8080/"
        },
        "id": "oc9mxpz9rfO1",
        "outputId": "f513d07d-0b2b-4661-e3e3-5de261ae3052"
      },
      "execution_count": 128,
      "outputs": [
        {
          "output_type": "stream",
          "name": "stdout",
          "text": [
            "б) интервалы для alpha, когда sigma не известна:\n",
            "при точности 0.99 (-0.553, 0.184), длина 0.737\n",
            "при точности 0.95 (-0.461, 0.092), длина 0.553\n",
            "при точности 0.90 (-0.416, 0.046), длина 0.461\n"
          ]
        }
      ]
    },
    {
      "cell_type": "markdown",
      "source": [
        "в) Для построения интервала на $σ^2$ при известном $\\alpha$ можно воспользоваться одним из следствий леммы Фишера: $\\frac{nS_{1}^2}{σ^2}⋹H_{n}$"
      ],
      "metadata": {
        "id": "hInG1AOisVE1"
      }
    },
    {
      "cell_type": "code",
      "execution_count": 129,
      "outputs": [],
      "source": [
        "# считаем квантили распределения Хи-квадрат с 50 степенями свободы (с точностью .3)\n",
        "ch = hi2_distr(df=n)\n",
        "q_ch50 = [(round(ch.ppf(0.01 / 2), 3), round(ch.ppf(1 - 0.01 / 2), 3)),\n",
        "          (round(ch.ppf(0.05 / 2), 3), round(ch.ppf(1 - 0.05 / 2), 3)),\n",
        "          (round(ch.ppf(0.1 / 2), 3),  round(ch.ppf(1 - 0.1 / 2),  3))]"
      ],
      "metadata": {
        "pycharm": {
          "name": "#%%\n"
        },
        "id": "iWJ1vX4PeFTW"
      }
    },
    {
      "cell_type": "code",
      "source": [
        "print('в) интервалы для sigma, когда alpha известна:')\n",
        "for i, accuracy in zip(range(3), accs):\n",
        "    L = n*S2_1/q_ch50[i][1]\n",
        "    R = n*S2_1/q_ch50[i][0]\n",
        "    print(f'при точности {accuracy} ({L:.3f}, {R:.3f}), длина {R - L:.3f}')"
      ],
      "metadata": {
        "colab": {
          "base_uri": "https://localhost:8080/"
        },
        "id": "nQIsmAHPuOER",
        "outputId": "72272f23-067d-4169-bb8a-0674100f4096"
      },
      "execution_count": 130,
      "outputs": [
        {
          "output_type": "stream",
          "name": "stdout",
          "text": [
            "в) интервалы для sigma, когда alpha известна:\n",
            "при точности 0.99 (0.605, 1.718), длина 1.113\n",
            "при точности 0.95 (0.673, 1.486), длина 0.813\n",
            "при точности 0.90 (0.712, 1.383), длина 0.671\n"
          ]
        }
      ]
    },
    {
      "cell_type": "markdown",
      "source": [
        "г) Для построения интервала на $σ^2$ при неизвестном $\\alpha$ можно воспользоваться следствием леммы Фишера: $\\frac{(n-1)S_{0}^2}{σ^2}⋹H_{n-1}$"
      ],
      "metadata": {
        "id": "8aeyPh-9vWTB"
      }
    },
    {
      "cell_type": "code",
      "execution_count": 131,
      "outputs": [],
      "source": [
        "# считаем квантили распределения Хи-квадрат с 49 степенями свободы (с точностью .3)\n",
        "ch = hi2_distr(df=n-1)\n",
        "q_ch49 = [(round(ch.ppf(0.01 / 2), 3), round(ch.ppf(1 - 0.01 / 2), 3)),\n",
        "          (round(ch.ppf(0.05 / 2), 3), round(ch.ppf(1 - 0.05 / 2), 3)),\n",
        "          (round(ch.ppf(0.1 / 2), 3),  round(ch.ppf(1 - 0.1 / 2),  3))]"
      ],
      "metadata": {
        "pycharm": {
          "name": "#%%\n"
        },
        "id": "0toCvXj1eFTW"
      }
    },
    {
      "cell_type": "code",
      "execution_count": 132,
      "outputs": [
        {
          "output_type": "stream",
          "name": "stdout",
          "text": [
            "в) интервалы для sigma, когда alpha не известна:\n",
            "при точности 0.99 (0.593, 1.702), длина 1.109\n",
            "при точности 0.95 (0.660, 1.469), длина 0.809\n",
            "при точности 0.90 (0.699, 1.367), длина 0.668\n"
          ]
        }
      ],
      "source": [
        "print('в) интервалы для sigma, когда alpha не известна:')\n",
        "for i, accuracy in zip(range(3), accs):\n",
        "    L = (n-1)*S2_0/q_ch49[i][1]\n",
        "    R = (n-1)*S2_0/q_ch49[i][0]\n",
        "    print(f'при точности {accuracy} ({L:.3f}, {R:.3f}), длина {R - L:.3f}')"
      ],
      "metadata": {
        "pycharm": {
          "name": "#%%\n"
        },
        "colab": {
          "base_uri": "https://localhost:8080/"
        },
        "id": "uq797kGqeFTX",
        "outputId": "420e23ad-cb32-424c-df18-aae251e297a4"
      }
    },
    {
      "cell_type": "markdown",
      "source": [
        "## Задание 2"
      ],
      "metadata": {
        "collapsed": false,
        "id": "4z6ruwE5eFTY"
      }
    },
    {
      "cell_type": "code",
      "execution_count": 133,
      "outputs": [],
      "source": [
        "# Равномерное распределение\n",
        "a = 0\n",
        "b = 1\n",
        "eps = 0.11\n",
        "\n",
        "X_u = np.array([0.696, 0.920, 0.120, 0.195, 0.635, 0.752, 0.148, 0.589, 0.341, 0.282, \n",
        "                0.499, 0.312, 0.150, 0.091, 0.322, 0.113, 0.578, 0.352, 0.187, 0.127, \n",
        "                0.496, 0.132, 0.789, 0.347, 0.175, 0.081, 0.558, 0.593, 0.826, 0.539])"
      ],
      "metadata": {
        "pycharm": {
          "name": "#%%\n"
        },
        "id": "43Gda3d3eFTT"
      }
    },
    {
      "cell_type": "markdown",
      "source": [
        "По числовой выборке № 2 объема 30\\\n",
        "а) построить график эмпирической функции распределения и гистограмму;\\\n",
        "б) проверить основную гипотезу о равномерности распределения c помощью критерия Колмогорова;\\\n",
        "в) проверить основную гипотезу о равномерности распределения c помощью критерия хи-квадрат"
      ],
      "metadata": {
        "collapsed": false,
        "id": "pxabND5ieFTZ"
      }
    },
    {
      "cell_type": "code",
      "source": [
        "n = X_u.size\n",
        "X_u_sorted = np.sort(X_u)"
      ],
      "metadata": {
        "id": "2UGhGx9f0uj8"
      },
      "execution_count": 134,
      "outputs": []
    },
    {
      "cell_type": "code",
      "source": [
        ""
      ],
      "metadata": {
        "id": "-dqLYA31Eq1Q"
      },
      "execution_count": 134,
      "outputs": []
    },
    {
      "cell_type": "code",
      "execution_count": 139,
      "outputs": [
        {
          "output_type": "display_data",
          "data": {
            "text/plain": [
              "<Figure size 648x648 with 1 Axes>"
            ],
            "image/png": "[encoded data removed]"
          },
          "metadata": {}
        }
      ],
      "source": [
        "#строим графики эмпирического и истинного распределений\n",
        "plt.figure(figsize=(9, 9))\n",
        "plt.xlim([-0.05, 1.05])\n",
        "plt.ylim([-0.05, 1.05])\n",
        "tmp = np.where(X_u_sorted <= X_u_sorted)[0]/n\n",
        "plt.hlines(0, -1, X_u_sorted[0], linewidth=1.5, color='blue')\n",
        "plt.hlines(1, X_u_sorted[n-1], 2, linewidth=1.5, color='blue')\n",
        "for j in range(n - 1): plt.hlines(tmp[j + 1], X_u_sorted[j], X_u_sorted[j + 1], linewidth=1.5, color='blue')\n",
        "plt.plot([-1, 0, 1, 2], [0, 0, 1, 1], linewidth=1.5, color='green')\n",
        "\n",
        "# находим и отмечаем статистическое расстояние между функциями распределений\n",
        "D = max(max(abs(tmp - X_u_sorted)), abs(X_u_sorted[0]), abs(1-X_u_sorted[n-1]))\n",
        "for elem, i in zip(tmp, range(len(tmp))):\n",
        "  if abs(X_u_sorted[i]-elem) == D:\n",
        "    plt.plot([X_u_sorted[i], X_u_sorted[i]], [X_u_sorted[i], tmp[i+1]], linewidth=1.5, color='red', marker='x', ls='--')"
      ],
      "metadata": {
        "pycharm": {
          "name": "#%%\n"
        },
        "id": "w9FXFpXdeFTZ",
        "outputId": "6b08e179-7b8b-4d33-ffb9-3326ede610c8",
        "colab": {
          "base_uri": "https://localhost:8080/",
          "height": 551
        }
      }
    },
    {
      "cell_type": "code",
      "execution_count": 136,
      "outputs": [],
      "source": [
        "\n",
        "\n",
        "# print('Выборочное среднее: ', np.average(X_u))\n",
        "\n",
        "# # Количество интервалов для критерия Хи-квадрат\n",
        "# K = 5\n",
        "\n",
        "# #Табличка для РДУЗ: http://smc.edu.nstu.ru/krit_kolm.htm\n",
        "\n",
        "# q_k = 1.17  # Кванитиль уровня 1 - 0.13 = 1 - eps | K^-1(0.13) = 1.17 | K(1.17) = 0.87\n",
        "\n",
        "# ch_u = hi2_distr(df=K - 1)\n",
        "# q_ch_u = ch_u.ppf(1 - eps)\n",
        "# print('Квантиль Хи-квадрат уровня 1-eps:', q_ch_u)"
      ],
      "metadata": {
        "pycharm": {
          "name": "#%%\n"
        },
        "id": "qvb_f3x_eFTZ"
      }
    },
    {
      "cell_type": "code",
      "execution_count": 137,
      "outputs": [],
      "source": [
        "# #б (Критерий Хи-квадрат):\n",
        "\n",
        "# def getMu(Split):\n",
        "#     Mu = []\n",
        "#     c = 0;\n",
        "#     i = 0\n",
        "#     for s in Split:\n",
        "#         while Xu[i] <= s:\n",
        "#             c += 1;\n",
        "#             if i < n - 1:\n",
        "#                 i += 1\n",
        "#             else:\n",
        "#                 break\n",
        "#         Mu.append(c);\n",
        "#         c = 0\n",
        "\n",
        "#     return Mu[1:]\n",
        "\n",
        "\n",
        "# Spl = np.linspace(0, 1, K + 1)  #Равномерное разбиение\n",
        "# p = Spl[1]  #Вероятность попасть в один из интервалов\n",
        "# M = getMu(Spl)  #Количество элементов выборки в каждом из интервалов\n",
        "\n",
        "# # print(Xu)\n",
        "# print('Разбиение [0,1]:', Spl)\n",
        "# print('\\nКоличество точек в каждом интервале разбиения:', M)\n",
        "# print('\\nЭмпирическая функция распределения: \\n', Array_F_empirical,'\\n')\n",
        "\n",
        "# #Статистика Хи-квадрат\n",
        "# D = 0\n",
        "# n_p = n * p\n",
        "# for i in range(K):\n",
        "#     D += (M[i] - n_p) ** 2\n",
        "# D /= (n_p)\n",
        "\n",
        "# if D < q_ch_u:\n",
        "#     print(\"Выборка равномерная\")\n",
        "# else:\n",
        "#     print(\"Выборка не равномерная\")\n",
        "\n",
        "# print(\"Квантиль:\", round(q_ch_u, 3))\n",
        "# print(\"d:\", round(D, 3));\n",
        "# print(\"РДУЗ:\", 1 - ch.cdf(D))\n",
        "\n",
        "\n",
        "# fig, ax = plt.subplots()\n",
        "\n",
        "# ax.bar(Spl[:-1:], M, width = 0.15)\n",
        "\n",
        "# fig.set_figwidth(12)    #  ширина Figure\n",
        "# fig.set_figheight(6)    #  высота Figure"
      ],
      "metadata": {
        "pycharm": {
          "name": "#%%\n"
        },
        "id": "5icxWr0HeFTZ"
      }
    },
    {
      "cell_type": "markdown",
      "source": [
        "## Задание 3"
      ],
      "metadata": {
        "collapsed": false,
        "id": "6NxvGRxMeFTZ"
      }
    }
  ],
  "metadata": {
    "kernelspec": {
      "display_name": "Python 3",
      "language": "python",
      "name": "python3"
    },
    "language_info": {
      "codemirror_mode": {
        "name": "ipython",
        "version": 2
      },
      "file_extension": ".py",
      "mimetype": "text/x-python",
      "name": "python",
      "nbconvert_exporter": "python",
      "pygments_lexer": "ipython2",
      "version": "2.7.6"
    },
    "colab": {
      "name": "raschetnoe_zadanie.ipynb",
      "provenance": [],
      "collapsed_sections": []
    }
  },
  "nbformat": 4,
  "nbformat_minor": 0
}